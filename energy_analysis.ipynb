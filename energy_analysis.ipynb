{
 "cells": [
  {
   "cell_type": "code",
   "execution_count": 52,
   "id": "5d683048",
   "metadata": {},
   "outputs": [],
   "source": [
    "import pandas as pd\n",
    "import numpy as np"
   ]
  },
  {
   "cell_type": "code",
   "execution_count": null,
   "id": "09047073",
   "metadata": {},
   "outputs": [],
   "source": [
    "# importing data and cleaning columns\n",
    "electricity = pd.read_csv(\"data/electricity_fulldata.csv\", encoding='utf-16')\n",
    "original_first_column = electricity.columns[0]\n",
    "electricity_columns = original_first_column.split(\"\\t\")\n",
    "electricity[electricity_columns] = [i.split(\"\\t\") for i in electricity[original_first_column]]\n",
    "electricity = electricity.drop(columns=[original_first_column])\n",
    "\n",
    "electricity = pd.read_csv(\"data/electricity_fulldata.csv\", encoding='utf-16')"
   ]
  },
  {
   "cell_type": "code",
   "execution_count": null,
   "id": "8d919259",
   "metadata": {},
   "outputs": [],
   "source": []
  }
 ],
 "metadata": {
  "kernelspec": {
   "display_name": "base",
   "language": "python",
   "name": "python3"
  },
  "language_info": {
   "codemirror_mode": {
    "name": "ipython",
    "version": 3
   },
   "file_extension": ".py",
   "mimetype": "text/x-python",
   "name": "python",
   "nbconvert_exporter": "python",
   "pygments_lexer": "ipython3",
   "version": "3.11.5"
  }
 },
 "nbformat": 4,
 "nbformat_minor": 5
}
